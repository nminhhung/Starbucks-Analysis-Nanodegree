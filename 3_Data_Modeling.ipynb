{
 "cells": [
  {
   "cell_type": "markdown",
   "metadata": {},
   "source": [
    "### Read the data"
   ]
  },
  {
   "cell_type": "code",
   "execution_count": 1,
   "metadata": {},
   "outputs": [],
   "source": [
    "import pandas as pd\n",
    "import matplotlib.pyplot as plt\n",
    "import seaborn as sns\n",
    "import numpy as np\n",
    "import plotly.graph_objects as go\n",
    "from plotly.subplots import make_subplots\n",
    "import plotly.express as px\n",
    "from time import time"
   ]
  },
  {
   "cell_type": "code",
   "execution_count": 2,
   "metadata": {},
   "outputs": [
    {
     "name": "stdout",
     "output_type": "stream",
     "text": [
      "WARNING:tensorflow:From c:\\Users\\HungNM81\\AppData\\Local\\Programs\\Python\\Python310\\lib\\site-packages\\keras\\src\\losses.py:2976: The name tf.losses.sparse_softmax_cross_entropy is deprecated. Please use tf.compat.v1.losses.sparse_softmax_cross_entropy instead.\n",
      "\n"
     ]
    }
   ],
   "source": [
    "from sklearn.preprocessing import StandardScaler, MinMaxScaler\n",
    "from sklearn.model_selection import train_test_split, GridSearchCV, RandomizedSearchCV\n",
    "from sklearn.metrics import accuracy_score, f1_score, classification_report\n",
    "from sklearn.linear_model import LogisticRegression, LinearRegression\n",
    "from sklearn.ensemble import RandomForestClassifier, AdaBoostClassifier, GradientBoostingClassifier\n",
    "from sklearn.neighbors import KNeighborsClassifier\n",
    "from sklearn.tree import DecisionTreeClassifier\n",
    "from xgboost import XGBClassifier"
   ]
  },
  {
   "cell_type": "code",
   "execution_count": 3,
   "metadata": {},
   "outputs": [
    {
     "data": {
      "text/html": [
       "<div>\n",
       "<style scoped>\n",
       "    .dataframe tbody tr th:only-of-type {\n",
       "        vertical-align: middle;\n",
       "    }\n",
       "\n",
       "    .dataframe tbody tr th {\n",
       "        vertical-align: top;\n",
       "    }\n",
       "\n",
       "    .dataframe thead th {\n",
       "        text-align: right;\n",
       "    }\n",
       "</style>\n",
       "<table border=\"1\" class=\"dataframe\">\n",
       "  <thead>\n",
       "    <tr style=\"text-align: right;\">\n",
       "      <th></th>\n",
       "      <th>customer_id</th>\n",
       "      <th>event</th>\n",
       "      <th>time</th>\n",
       "      <th>offer-completed</th>\n",
       "      <th>offer-received</th>\n",
       "      <th>offer-viewed</th>\n",
       "      <th>transaction</th>\n",
       "      <th>offer_id</th>\n",
       "      <th>amount</th>\n",
       "      <th>gender</th>\n",
       "      <th>...</th>\n",
       "      <th>income</th>\n",
       "      <th>reward</th>\n",
       "      <th>difficulty</th>\n",
       "      <th>duration</th>\n",
       "      <th>offer_type</th>\n",
       "      <th>email</th>\n",
       "      <th>mobile</th>\n",
       "      <th>social</th>\n",
       "      <th>web</th>\n",
       "      <th>event_id</th>\n",
       "    </tr>\n",
       "  </thead>\n",
       "  <tbody>\n",
       "    <tr>\n",
       "      <th>0</th>\n",
       "      <td>78afa995795e4d85b5d9ceeca43f5fef</td>\n",
       "      <td>offer-received</td>\n",
       "      <td>0</td>\n",
       "      <td>0</td>\n",
       "      <td>1</td>\n",
       "      <td>0</td>\n",
       "      <td>0</td>\n",
       "      <td>0</td>\n",
       "      <td>NaN</td>\n",
       "      <td>F</td>\n",
       "      <td>...</td>\n",
       "      <td>100000.0</td>\n",
       "      <td>5.0</td>\n",
       "      <td>5.0</td>\n",
       "      <td>7.0</td>\n",
       "      <td>bogo</td>\n",
       "      <td>1.0</td>\n",
       "      <td>1.0</td>\n",
       "      <td>0.0</td>\n",
       "      <td>1.0</td>\n",
       "      <td>0</td>\n",
       "    </tr>\n",
       "    <tr>\n",
       "      <th>1</th>\n",
       "      <td>78afa995795e4d85b5d9ceeca43f5fef</td>\n",
       "      <td>offer-viewed</td>\n",
       "      <td>6</td>\n",
       "      <td>0</td>\n",
       "      <td>0</td>\n",
       "      <td>1</td>\n",
       "      <td>0</td>\n",
       "      <td>0</td>\n",
       "      <td>NaN</td>\n",
       "      <td>F</td>\n",
       "      <td>...</td>\n",
       "      <td>100000.0</td>\n",
       "      <td>5.0</td>\n",
       "      <td>5.0</td>\n",
       "      <td>7.0</td>\n",
       "      <td>bogo</td>\n",
       "      <td>1.0</td>\n",
       "      <td>1.0</td>\n",
       "      <td>0.0</td>\n",
       "      <td>1.0</td>\n",
       "      <td>1</td>\n",
       "    </tr>\n",
       "    <tr>\n",
       "      <th>2</th>\n",
       "      <td>78afa995795e4d85b5d9ceeca43f5fef</td>\n",
       "      <td>transaction</td>\n",
       "      <td>132</td>\n",
       "      <td>0</td>\n",
       "      <td>0</td>\n",
       "      <td>0</td>\n",
       "      <td>1</td>\n",
       "      <td>1</td>\n",
       "      <td>19.89</td>\n",
       "      <td>F</td>\n",
       "      <td>...</td>\n",
       "      <td>100000.0</td>\n",
       "      <td>NaN</td>\n",
       "      <td>NaN</td>\n",
       "      <td>NaN</td>\n",
       "      <td>NaN</td>\n",
       "      <td>NaN</td>\n",
       "      <td>NaN</td>\n",
       "      <td>NaN</td>\n",
       "      <td>NaN</td>\n",
       "      <td>2</td>\n",
       "    </tr>\n",
       "    <tr>\n",
       "      <th>3</th>\n",
       "      <td>78afa995795e4d85b5d9ceeca43f5fef</td>\n",
       "      <td>offer-completed</td>\n",
       "      <td>132</td>\n",
       "      <td>1</td>\n",
       "      <td>0</td>\n",
       "      <td>0</td>\n",
       "      <td>0</td>\n",
       "      <td>0</td>\n",
       "      <td>NaN</td>\n",
       "      <td>F</td>\n",
       "      <td>...</td>\n",
       "      <td>100000.0</td>\n",
       "      <td>5.0</td>\n",
       "      <td>5.0</td>\n",
       "      <td>7.0</td>\n",
       "      <td>bogo</td>\n",
       "      <td>1.0</td>\n",
       "      <td>1.0</td>\n",
       "      <td>0.0</td>\n",
       "      <td>1.0</td>\n",
       "      <td>3</td>\n",
       "    </tr>\n",
       "    <tr>\n",
       "      <th>4</th>\n",
       "      <td>78afa995795e4d85b5d9ceeca43f5fef</td>\n",
       "      <td>transaction</td>\n",
       "      <td>144</td>\n",
       "      <td>0</td>\n",
       "      <td>0</td>\n",
       "      <td>0</td>\n",
       "      <td>1</td>\n",
       "      <td>1</td>\n",
       "      <td>17.78</td>\n",
       "      <td>F</td>\n",
       "      <td>...</td>\n",
       "      <td>100000.0</td>\n",
       "      <td>NaN</td>\n",
       "      <td>NaN</td>\n",
       "      <td>NaN</td>\n",
       "      <td>NaN</td>\n",
       "      <td>NaN</td>\n",
       "      <td>NaN</td>\n",
       "      <td>NaN</td>\n",
       "      <td>NaN</td>\n",
       "      <td>2</td>\n",
       "    </tr>\n",
       "  </tbody>\n",
       "</table>\n",
       "<p>5 rows × 22 columns</p>\n",
       "</div>"
      ],
      "text/plain": [
       "                        customer_id            event  time  offer-completed  \\\n",
       "0  78afa995795e4d85b5d9ceeca43f5fef   offer-received     0                0   \n",
       "1  78afa995795e4d85b5d9ceeca43f5fef     offer-viewed     6                0   \n",
       "2  78afa995795e4d85b5d9ceeca43f5fef      transaction   132                0   \n",
       "3  78afa995795e4d85b5d9ceeca43f5fef  offer-completed   132                1   \n",
       "4  78afa995795e4d85b5d9ceeca43f5fef      transaction   144                0   \n",
       "\n",
       "   offer-received  offer-viewed  transaction  offer_id  amount gender  ...  \\\n",
       "0               1             0            0         0     NaN      F  ...   \n",
       "1               0             1            0         0     NaN      F  ...   \n",
       "2               0             0            1         1   19.89      F  ...   \n",
       "3               0             0            0         0     NaN      F  ...   \n",
       "4               0             0            1         1   17.78      F  ...   \n",
       "\n",
       "     income reward  difficulty  duration  offer_type  email mobile  social  \\\n",
       "0  100000.0    5.0         5.0       7.0        bogo    1.0    1.0     0.0   \n",
       "1  100000.0    5.0         5.0       7.0        bogo    1.0    1.0     0.0   \n",
       "2  100000.0    NaN         NaN       NaN         NaN    NaN    NaN     NaN   \n",
       "3  100000.0    5.0         5.0       7.0        bogo    1.0    1.0     0.0   \n",
       "4  100000.0    NaN         NaN       NaN         NaN    NaN    NaN     NaN   \n",
       "\n",
       "   web  event_id  \n",
       "0  1.0         0  \n",
       "1  1.0         1  \n",
       "2  NaN         2  \n",
       "3  1.0         3  \n",
       "4  NaN         2  \n",
       "\n",
       "[5 rows x 22 columns]"
      ]
     },
     "execution_count": 3,
     "metadata": {},
     "output_type": "execute_result"
    }
   ],
   "source": [
    "df = pd.read_csv('data/data.csv')\n",
    "df.head()"
   ]
  },
  {
   "cell_type": "markdown",
   "metadata": {},
   "source": [
    "### One-hot encoder"
   ]
  },
  {
   "cell_type": "code",
   "execution_count": 4,
   "metadata": {},
   "outputs": [
    {
     "name": "stdout",
     "output_type": "stream",
     "text": [
      "<class 'pandas.core.frame.DataFrame'>\n",
      "RangeIndex: 306534 entries, 0 to 306533\n",
      "Data columns (total 22 columns):\n",
      " #   Column            Non-Null Count   Dtype  \n",
      "---  ------            --------------   -----  \n",
      " 0   customer_id       306534 non-null  object \n",
      " 1   event             306534 non-null  object \n",
      " 2   time              306534 non-null  int64  \n",
      " 3   offer-completed   306534 non-null  int64  \n",
      " 4   offer-received    306534 non-null  int64  \n",
      " 5   offer-viewed      306534 non-null  int64  \n",
      " 6   transaction       306534 non-null  int64  \n",
      " 7   offer_id          306534 non-null  int64  \n",
      " 8   amount            138953 non-null  float64\n",
      " 9   gender            272762 non-null  object \n",
      " 10  age               306534 non-null  int64  \n",
      " 11  became_member_on  306534 non-null  object \n",
      " 12  income            272762 non-null  float64\n",
      " 13  reward            167581 non-null  float64\n",
      " 14  difficulty        167581 non-null  float64\n",
      " 15  duration          167581 non-null  float64\n",
      " 16  offer_type        167581 non-null  object \n",
      " 17  email             167581 non-null  float64\n",
      " 18  mobile            167581 non-null  float64\n",
      " 19  social            167581 non-null  float64\n",
      " 20  web               167581 non-null  float64\n",
      " 21  event_id          306534 non-null  int64  \n",
      "dtypes: float64(9), int64(8), object(5)\n",
      "memory usage: 51.5+ MB\n"
     ]
    }
   ],
   "source": [
    "df.info()"
   ]
  },
  {
   "cell_type": "code",
   "execution_count": 5,
   "metadata": {},
   "outputs": [
    {
     "data": {
      "text/plain": [
       "{'O': 0, 'M': 1, 'F': 2}"
      ]
     },
     "execution_count": 5,
     "metadata": {},
     "output_type": "execute_result"
    }
   ],
   "source": [
    "# Onehot encoder for gender col\n",
    "gender = {'O': 0, 'M': 1, 'F': 2}\n",
    "gender"
   ]
  },
  {
   "cell_type": "code",
   "execution_count": 6,
   "metadata": {},
   "outputs": [],
   "source": [
    "df['gender'] = df['gender'].map(gender)"
   ]
  },
  {
   "cell_type": "code",
   "execution_count": 7,
   "metadata": {},
   "outputs": [
    {
     "data": {
      "text/html": [
       "<div>\n",
       "<style scoped>\n",
       "    .dataframe tbody tr th:only-of-type {\n",
       "        vertical-align: middle;\n",
       "    }\n",
       "\n",
       "    .dataframe tbody tr th {\n",
       "        vertical-align: top;\n",
       "    }\n",
       "\n",
       "    .dataframe thead th {\n",
       "        text-align: right;\n",
       "    }\n",
       "</style>\n",
       "<table border=\"1\" class=\"dataframe\">\n",
       "  <thead>\n",
       "    <tr style=\"text-align: right;\">\n",
       "      <th></th>\n",
       "      <th>customer_id</th>\n",
       "      <th>event</th>\n",
       "      <th>time</th>\n",
       "      <th>offer-completed</th>\n",
       "      <th>offer-received</th>\n",
       "      <th>offer-viewed</th>\n",
       "      <th>transaction</th>\n",
       "      <th>offer_id</th>\n",
       "      <th>amount</th>\n",
       "      <th>gender</th>\n",
       "      <th>...</th>\n",
       "      <th>income</th>\n",
       "      <th>reward</th>\n",
       "      <th>difficulty</th>\n",
       "      <th>duration</th>\n",
       "      <th>offer_type</th>\n",
       "      <th>email</th>\n",
       "      <th>mobile</th>\n",
       "      <th>social</th>\n",
       "      <th>web</th>\n",
       "      <th>event_id</th>\n",
       "    </tr>\n",
       "  </thead>\n",
       "  <tbody>\n",
       "    <tr>\n",
       "      <th>0</th>\n",
       "      <td>78afa995795e4d85b5d9ceeca43f5fef</td>\n",
       "      <td>offer-received</td>\n",
       "      <td>0</td>\n",
       "      <td>0</td>\n",
       "      <td>1</td>\n",
       "      <td>0</td>\n",
       "      <td>0</td>\n",
       "      <td>0</td>\n",
       "      <td>NaN</td>\n",
       "      <td>2.0</td>\n",
       "      <td>...</td>\n",
       "      <td>100000.0</td>\n",
       "      <td>5.0</td>\n",
       "      <td>5.0</td>\n",
       "      <td>7.0</td>\n",
       "      <td>bogo</td>\n",
       "      <td>1.0</td>\n",
       "      <td>1.0</td>\n",
       "      <td>0.0</td>\n",
       "      <td>1.0</td>\n",
       "      <td>0</td>\n",
       "    </tr>\n",
       "    <tr>\n",
       "      <th>1</th>\n",
       "      <td>78afa995795e4d85b5d9ceeca43f5fef</td>\n",
       "      <td>offer-viewed</td>\n",
       "      <td>6</td>\n",
       "      <td>0</td>\n",
       "      <td>0</td>\n",
       "      <td>1</td>\n",
       "      <td>0</td>\n",
       "      <td>0</td>\n",
       "      <td>NaN</td>\n",
       "      <td>2.0</td>\n",
       "      <td>...</td>\n",
       "      <td>100000.0</td>\n",
       "      <td>5.0</td>\n",
       "      <td>5.0</td>\n",
       "      <td>7.0</td>\n",
       "      <td>bogo</td>\n",
       "      <td>1.0</td>\n",
       "      <td>1.0</td>\n",
       "      <td>0.0</td>\n",
       "      <td>1.0</td>\n",
       "      <td>1</td>\n",
       "    </tr>\n",
       "    <tr>\n",
       "      <th>2</th>\n",
       "      <td>78afa995795e4d85b5d9ceeca43f5fef</td>\n",
       "      <td>transaction</td>\n",
       "      <td>132</td>\n",
       "      <td>0</td>\n",
       "      <td>0</td>\n",
       "      <td>0</td>\n",
       "      <td>1</td>\n",
       "      <td>1</td>\n",
       "      <td>19.89</td>\n",
       "      <td>2.0</td>\n",
       "      <td>...</td>\n",
       "      <td>100000.0</td>\n",
       "      <td>NaN</td>\n",
       "      <td>NaN</td>\n",
       "      <td>NaN</td>\n",
       "      <td>NaN</td>\n",
       "      <td>NaN</td>\n",
       "      <td>NaN</td>\n",
       "      <td>NaN</td>\n",
       "      <td>NaN</td>\n",
       "      <td>2</td>\n",
       "    </tr>\n",
       "    <tr>\n",
       "      <th>3</th>\n",
       "      <td>78afa995795e4d85b5d9ceeca43f5fef</td>\n",
       "      <td>offer-completed</td>\n",
       "      <td>132</td>\n",
       "      <td>1</td>\n",
       "      <td>0</td>\n",
       "      <td>0</td>\n",
       "      <td>0</td>\n",
       "      <td>0</td>\n",
       "      <td>NaN</td>\n",
       "      <td>2.0</td>\n",
       "      <td>...</td>\n",
       "      <td>100000.0</td>\n",
       "      <td>5.0</td>\n",
       "      <td>5.0</td>\n",
       "      <td>7.0</td>\n",
       "      <td>bogo</td>\n",
       "      <td>1.0</td>\n",
       "      <td>1.0</td>\n",
       "      <td>0.0</td>\n",
       "      <td>1.0</td>\n",
       "      <td>3</td>\n",
       "    </tr>\n",
       "    <tr>\n",
       "      <th>4</th>\n",
       "      <td>78afa995795e4d85b5d9ceeca43f5fef</td>\n",
       "      <td>transaction</td>\n",
       "      <td>144</td>\n",
       "      <td>0</td>\n",
       "      <td>0</td>\n",
       "      <td>0</td>\n",
       "      <td>1</td>\n",
       "      <td>1</td>\n",
       "      <td>17.78</td>\n",
       "      <td>2.0</td>\n",
       "      <td>...</td>\n",
       "      <td>100000.0</td>\n",
       "      <td>NaN</td>\n",
       "      <td>NaN</td>\n",
       "      <td>NaN</td>\n",
       "      <td>NaN</td>\n",
       "      <td>NaN</td>\n",
       "      <td>NaN</td>\n",
       "      <td>NaN</td>\n",
       "      <td>NaN</td>\n",
       "      <td>2</td>\n",
       "    </tr>\n",
       "  </tbody>\n",
       "</table>\n",
       "<p>5 rows × 22 columns</p>\n",
       "</div>"
      ],
      "text/plain": [
       "                        customer_id            event  time  offer-completed  \\\n",
       "0  78afa995795e4d85b5d9ceeca43f5fef   offer-received     0                0   \n",
       "1  78afa995795e4d85b5d9ceeca43f5fef     offer-viewed     6                0   \n",
       "2  78afa995795e4d85b5d9ceeca43f5fef      transaction   132                0   \n",
       "3  78afa995795e4d85b5d9ceeca43f5fef  offer-completed   132                1   \n",
       "4  78afa995795e4d85b5d9ceeca43f5fef      transaction   144                0   \n",
       "\n",
       "   offer-received  offer-viewed  transaction  offer_id  amount  gender  ...  \\\n",
       "0               1             0            0         0     NaN     2.0  ...   \n",
       "1               0             1            0         0     NaN     2.0  ...   \n",
       "2               0             0            1         1   19.89     2.0  ...   \n",
       "3               0             0            0         0     NaN     2.0  ...   \n",
       "4               0             0            1         1   17.78     2.0  ...   \n",
       "\n",
       "     income reward  difficulty  duration  offer_type  email mobile  social  \\\n",
       "0  100000.0    5.0         5.0       7.0        bogo    1.0    1.0     0.0   \n",
       "1  100000.0    5.0         5.0       7.0        bogo    1.0    1.0     0.0   \n",
       "2  100000.0    NaN         NaN       NaN         NaN    NaN    NaN     NaN   \n",
       "3  100000.0    5.0         5.0       7.0        bogo    1.0    1.0     0.0   \n",
       "4  100000.0    NaN         NaN       NaN         NaN    NaN    NaN     NaN   \n",
       "\n",
       "   web  event_id  \n",
       "0  1.0         0  \n",
       "1  1.0         1  \n",
       "2  NaN         2  \n",
       "3  1.0         3  \n",
       "4  NaN         2  \n",
       "\n",
       "[5 rows x 22 columns]"
      ]
     },
     "execution_count": 7,
     "metadata": {},
     "output_type": "execute_result"
    }
   ],
   "source": [
    "df.head()"
   ]
  },
  {
   "cell_type": "code",
   "execution_count": 8,
   "metadata": {},
   "outputs": [
    {
     "data": {
      "text/plain": [
       "{'bogo': 0, 'discount': 1, 'informational': 2}"
      ]
     },
     "execution_count": 8,
     "metadata": {},
     "output_type": "execute_result"
    }
   ],
   "source": [
    "# One hot encoder for offer col\n",
    "offers = {\n",
    "    'bogo': 0,\n",
    "    'discount': 1,\n",
    "    'informational': 2\n",
    "}\n",
    "offers"
   ]
  },
  {
   "cell_type": "code",
   "execution_count": 9,
   "metadata": {},
   "outputs": [
    {
     "data": {
      "text/html": [
       "<div>\n",
       "<style scoped>\n",
       "    .dataframe tbody tr th:only-of-type {\n",
       "        vertical-align: middle;\n",
       "    }\n",
       "\n",
       "    .dataframe tbody tr th {\n",
       "        vertical-align: top;\n",
       "    }\n",
       "\n",
       "    .dataframe thead th {\n",
       "        text-align: right;\n",
       "    }\n",
       "</style>\n",
       "<table border=\"1\" class=\"dataframe\">\n",
       "  <thead>\n",
       "    <tr style=\"text-align: right;\">\n",
       "      <th></th>\n",
       "      <th>customer_id</th>\n",
       "      <th>event</th>\n",
       "      <th>time</th>\n",
       "      <th>offer-completed</th>\n",
       "      <th>offer-received</th>\n",
       "      <th>offer-viewed</th>\n",
       "      <th>transaction</th>\n",
       "      <th>offer_id</th>\n",
       "      <th>amount</th>\n",
       "      <th>gender</th>\n",
       "      <th>...</th>\n",
       "      <th>income</th>\n",
       "      <th>reward</th>\n",
       "      <th>difficulty</th>\n",
       "      <th>duration</th>\n",
       "      <th>offer_type</th>\n",
       "      <th>email</th>\n",
       "      <th>mobile</th>\n",
       "      <th>social</th>\n",
       "      <th>web</th>\n",
       "      <th>event_id</th>\n",
       "    </tr>\n",
       "  </thead>\n",
       "  <tbody>\n",
       "    <tr>\n",
       "      <th>0</th>\n",
       "      <td>78afa995795e4d85b5d9ceeca43f5fef</td>\n",
       "      <td>offer-received</td>\n",
       "      <td>0</td>\n",
       "      <td>0</td>\n",
       "      <td>1</td>\n",
       "      <td>0</td>\n",
       "      <td>0</td>\n",
       "      <td>0</td>\n",
       "      <td>NaN</td>\n",
       "      <td>2.0</td>\n",
       "      <td>...</td>\n",
       "      <td>100000.0</td>\n",
       "      <td>5.0</td>\n",
       "      <td>5.0</td>\n",
       "      <td>7.0</td>\n",
       "      <td>0.0</td>\n",
       "      <td>1.0</td>\n",
       "      <td>1.0</td>\n",
       "      <td>0.0</td>\n",
       "      <td>1.0</td>\n",
       "      <td>0</td>\n",
       "    </tr>\n",
       "    <tr>\n",
       "      <th>1</th>\n",
       "      <td>78afa995795e4d85b5d9ceeca43f5fef</td>\n",
       "      <td>offer-viewed</td>\n",
       "      <td>6</td>\n",
       "      <td>0</td>\n",
       "      <td>0</td>\n",
       "      <td>1</td>\n",
       "      <td>0</td>\n",
       "      <td>0</td>\n",
       "      <td>NaN</td>\n",
       "      <td>2.0</td>\n",
       "      <td>...</td>\n",
       "      <td>100000.0</td>\n",
       "      <td>5.0</td>\n",
       "      <td>5.0</td>\n",
       "      <td>7.0</td>\n",
       "      <td>0.0</td>\n",
       "      <td>1.0</td>\n",
       "      <td>1.0</td>\n",
       "      <td>0.0</td>\n",
       "      <td>1.0</td>\n",
       "      <td>1</td>\n",
       "    </tr>\n",
       "    <tr>\n",
       "      <th>2</th>\n",
       "      <td>78afa995795e4d85b5d9ceeca43f5fef</td>\n",
       "      <td>transaction</td>\n",
       "      <td>132</td>\n",
       "      <td>0</td>\n",
       "      <td>0</td>\n",
       "      <td>0</td>\n",
       "      <td>1</td>\n",
       "      <td>1</td>\n",
       "      <td>19.89</td>\n",
       "      <td>2.0</td>\n",
       "      <td>...</td>\n",
       "      <td>100000.0</td>\n",
       "      <td>NaN</td>\n",
       "      <td>NaN</td>\n",
       "      <td>NaN</td>\n",
       "      <td>NaN</td>\n",
       "      <td>NaN</td>\n",
       "      <td>NaN</td>\n",
       "      <td>NaN</td>\n",
       "      <td>NaN</td>\n",
       "      <td>2</td>\n",
       "    </tr>\n",
       "    <tr>\n",
       "      <th>3</th>\n",
       "      <td>78afa995795e4d85b5d9ceeca43f5fef</td>\n",
       "      <td>offer-completed</td>\n",
       "      <td>132</td>\n",
       "      <td>1</td>\n",
       "      <td>0</td>\n",
       "      <td>0</td>\n",
       "      <td>0</td>\n",
       "      <td>0</td>\n",
       "      <td>NaN</td>\n",
       "      <td>2.0</td>\n",
       "      <td>...</td>\n",
       "      <td>100000.0</td>\n",
       "      <td>5.0</td>\n",
       "      <td>5.0</td>\n",
       "      <td>7.0</td>\n",
       "      <td>0.0</td>\n",
       "      <td>1.0</td>\n",
       "      <td>1.0</td>\n",
       "      <td>0.0</td>\n",
       "      <td>1.0</td>\n",
       "      <td>3</td>\n",
       "    </tr>\n",
       "    <tr>\n",
       "      <th>4</th>\n",
       "      <td>78afa995795e4d85b5d9ceeca43f5fef</td>\n",
       "      <td>transaction</td>\n",
       "      <td>144</td>\n",
       "      <td>0</td>\n",
       "      <td>0</td>\n",
       "      <td>0</td>\n",
       "      <td>1</td>\n",
       "      <td>1</td>\n",
       "      <td>17.78</td>\n",
       "      <td>2.0</td>\n",
       "      <td>...</td>\n",
       "      <td>100000.0</td>\n",
       "      <td>NaN</td>\n",
       "      <td>NaN</td>\n",
       "      <td>NaN</td>\n",
       "      <td>NaN</td>\n",
       "      <td>NaN</td>\n",
       "      <td>NaN</td>\n",
       "      <td>NaN</td>\n",
       "      <td>NaN</td>\n",
       "      <td>2</td>\n",
       "    </tr>\n",
       "  </tbody>\n",
       "</table>\n",
       "<p>5 rows × 22 columns</p>\n",
       "</div>"
      ],
      "text/plain": [
       "                        customer_id            event  time  offer-completed  \\\n",
       "0  78afa995795e4d85b5d9ceeca43f5fef   offer-received     0                0   \n",
       "1  78afa995795e4d85b5d9ceeca43f5fef     offer-viewed     6                0   \n",
       "2  78afa995795e4d85b5d9ceeca43f5fef      transaction   132                0   \n",
       "3  78afa995795e4d85b5d9ceeca43f5fef  offer-completed   132                1   \n",
       "4  78afa995795e4d85b5d9ceeca43f5fef      transaction   144                0   \n",
       "\n",
       "   offer-received  offer-viewed  transaction  offer_id  amount  gender  ...  \\\n",
       "0               1             0            0         0     NaN     2.0  ...   \n",
       "1               0             1            0         0     NaN     2.0  ...   \n",
       "2               0             0            1         1   19.89     2.0  ...   \n",
       "3               0             0            0         0     NaN     2.0  ...   \n",
       "4               0             0            1         1   17.78     2.0  ...   \n",
       "\n",
       "     income reward  difficulty  duration  offer_type  email  mobile  social  \\\n",
       "0  100000.0    5.0         5.0       7.0         0.0    1.0     1.0     0.0   \n",
       "1  100000.0    5.0         5.0       7.0         0.0    1.0     1.0     0.0   \n",
       "2  100000.0    NaN         NaN       NaN         NaN    NaN     NaN     NaN   \n",
       "3  100000.0    5.0         5.0       7.0         0.0    1.0     1.0     0.0   \n",
       "4  100000.0    NaN         NaN       NaN         NaN    NaN     NaN     NaN   \n",
       "\n",
       "   web  event_id  \n",
       "0  1.0         0  \n",
       "1  1.0         1  \n",
       "2  NaN         2  \n",
       "3  1.0         3  \n",
       "4  NaN         2  \n",
       "\n",
       "[5 rows x 22 columns]"
      ]
     },
     "execution_count": 9,
     "metadata": {},
     "output_type": "execute_result"
    }
   ],
   "source": [
    "df['offer_type'] = df['offer_type'].map(offers)\n",
    "df.head()"
   ]
  },
  {
   "cell_type": "code",
   "execution_count": 10,
   "metadata": {},
   "outputs": [
    {
     "data": {
      "text/plain": [
       "Index(['customer_id', 'event', 'time', 'offer-completed', 'offer-received',\n",
       "       'offer-viewed', 'transaction', 'offer_id', 'amount', 'gender', 'age',\n",
       "       'became_member_on', 'income', 'reward', 'difficulty', 'duration',\n",
       "       'offer_type', 'email', 'mobile', 'social', 'web', 'event_id'],\n",
       "      dtype='object')"
      ]
     },
     "execution_count": 10,
     "metadata": {},
     "output_type": "execute_result"
    }
   ],
   "source": [
    "df.columns"
   ]
  },
  {
   "cell_type": "code",
   "execution_count": 11,
   "metadata": {},
   "outputs": [],
   "source": [
    "# drop all null values in income columns\n",
    "df.dropna(subset=['income'], inplace = True)"
   ]
  },
  {
   "cell_type": "code",
   "execution_count": 12,
   "metadata": {},
   "outputs": [],
   "source": [
    "# fill all N/A values with 0\n",
    "df.fillna(0, inplace = True)"
   ]
  },
  {
   "cell_type": "code",
   "execution_count": 13,
   "metadata": {},
   "outputs": [],
   "source": [
    "# Split column input and output\n",
    "X = df[['time', 'amount','reward', 'difficulty', 'age', 'income', 'gender', 'offer_type', 'email', 'mobile', 'social', 'web']]\n",
    "Y = df['offer-completed']"
   ]
  },
  {
   "cell_type": "code",
   "execution_count": 14,
   "metadata": {},
   "outputs": [
    {
     "data": {
      "text/html": [
       "<div>\n",
       "<style scoped>\n",
       "    .dataframe tbody tr th:only-of-type {\n",
       "        vertical-align: middle;\n",
       "    }\n",
       "\n",
       "    .dataframe tbody tr th {\n",
       "        vertical-align: top;\n",
       "    }\n",
       "\n",
       "    .dataframe thead th {\n",
       "        text-align: right;\n",
       "    }\n",
       "</style>\n",
       "<table border=\"1\" class=\"dataframe\">\n",
       "  <thead>\n",
       "    <tr style=\"text-align: right;\">\n",
       "      <th></th>\n",
       "      <th>time</th>\n",
       "      <th>amount</th>\n",
       "      <th>reward</th>\n",
       "      <th>difficulty</th>\n",
       "      <th>age</th>\n",
       "      <th>income</th>\n",
       "      <th>gender</th>\n",
       "      <th>offer_type</th>\n",
       "      <th>email</th>\n",
       "      <th>mobile</th>\n",
       "      <th>social</th>\n",
       "      <th>web</th>\n",
       "    </tr>\n",
       "  </thead>\n",
       "  <tbody>\n",
       "    <tr>\n",
       "      <th>0</th>\n",
       "      <td>0</td>\n",
       "      <td>0.00</td>\n",
       "      <td>5.0</td>\n",
       "      <td>5.0</td>\n",
       "      <td>75</td>\n",
       "      <td>100000.0</td>\n",
       "      <td>2.0</td>\n",
       "      <td>0.0</td>\n",
       "      <td>1.0</td>\n",
       "      <td>1.0</td>\n",
       "      <td>0.0</td>\n",
       "      <td>1.0</td>\n",
       "    </tr>\n",
       "    <tr>\n",
       "      <th>1</th>\n",
       "      <td>6</td>\n",
       "      <td>0.00</td>\n",
       "      <td>5.0</td>\n",
       "      <td>5.0</td>\n",
       "      <td>75</td>\n",
       "      <td>100000.0</td>\n",
       "      <td>2.0</td>\n",
       "      <td>0.0</td>\n",
       "      <td>1.0</td>\n",
       "      <td>1.0</td>\n",
       "      <td>0.0</td>\n",
       "      <td>1.0</td>\n",
       "    </tr>\n",
       "    <tr>\n",
       "      <th>2</th>\n",
       "      <td>132</td>\n",
       "      <td>19.89</td>\n",
       "      <td>0.0</td>\n",
       "      <td>0.0</td>\n",
       "      <td>75</td>\n",
       "      <td>100000.0</td>\n",
       "      <td>2.0</td>\n",
       "      <td>0.0</td>\n",
       "      <td>0.0</td>\n",
       "      <td>0.0</td>\n",
       "      <td>0.0</td>\n",
       "      <td>0.0</td>\n",
       "    </tr>\n",
       "    <tr>\n",
       "      <th>3</th>\n",
       "      <td>132</td>\n",
       "      <td>0.00</td>\n",
       "      <td>5.0</td>\n",
       "      <td>5.0</td>\n",
       "      <td>75</td>\n",
       "      <td>100000.0</td>\n",
       "      <td>2.0</td>\n",
       "      <td>0.0</td>\n",
       "      <td>1.0</td>\n",
       "      <td>1.0</td>\n",
       "      <td>0.0</td>\n",
       "      <td>1.0</td>\n",
       "    </tr>\n",
       "    <tr>\n",
       "      <th>4</th>\n",
       "      <td>144</td>\n",
       "      <td>17.78</td>\n",
       "      <td>0.0</td>\n",
       "      <td>0.0</td>\n",
       "      <td>75</td>\n",
       "      <td>100000.0</td>\n",
       "      <td>2.0</td>\n",
       "      <td>0.0</td>\n",
       "      <td>0.0</td>\n",
       "      <td>0.0</td>\n",
       "      <td>0.0</td>\n",
       "      <td>0.0</td>\n",
       "    </tr>\n",
       "  </tbody>\n",
       "</table>\n",
       "</div>"
      ],
      "text/plain": [
       "   time  amount  reward  difficulty  age    income  gender  offer_type  email  \\\n",
       "0     0    0.00     5.0         5.0   75  100000.0     2.0         0.0    1.0   \n",
       "1     6    0.00     5.0         5.0   75  100000.0     2.0         0.0    1.0   \n",
       "2   132   19.89     0.0         0.0   75  100000.0     2.0         0.0    0.0   \n",
       "3   132    0.00     5.0         5.0   75  100000.0     2.0         0.0    1.0   \n",
       "4   144   17.78     0.0         0.0   75  100000.0     2.0         0.0    0.0   \n",
       "\n",
       "   mobile  social  web  \n",
       "0     1.0     0.0  1.0  \n",
       "1     1.0     0.0  1.0  \n",
       "2     0.0     0.0  0.0  \n",
       "3     1.0     0.0  1.0  \n",
       "4     0.0     0.0  0.0  "
      ]
     },
     "execution_count": 14,
     "metadata": {},
     "output_type": "execute_result"
    }
   ],
   "source": [
    "X.head()"
   ]
  },
  {
   "cell_type": "code",
   "execution_count": 15,
   "metadata": {},
   "outputs": [
    {
     "data": {
      "text/plain": [
       "0    0\n",
       "1    0\n",
       "2    0\n",
       "3    1\n",
       "4    0\n",
       "Name: offer-completed, dtype: int64"
      ]
     },
     "execution_count": 15,
     "metadata": {},
     "output_type": "execute_result"
    }
   ],
   "source": [
    "Y.head()"
   ]
  },
  {
   "cell_type": "code",
   "execution_count": 16,
   "metadata": {},
   "outputs": [
    {
     "name": "stdout",
     "output_type": "stream",
     "text": [
      "X shape:  (272762, 12)\n",
      "Y shape:  (272762,)\n"
     ]
    }
   ],
   "source": [
    "print('X shape: ', X.shape)\n",
    "print('Y shape: ', Y.shape)"
   ]
  },
  {
   "cell_type": "markdown",
   "metadata": {},
   "source": [
    "### Scaling"
   ]
  },
  {
   "cell_type": "code",
   "execution_count": 17,
   "metadata": {},
   "outputs": [],
   "source": [
    "scaler = MinMaxScaler()"
   ]
  },
  {
   "cell_type": "code",
   "execution_count": 18,
   "metadata": {},
   "outputs": [
    {
     "data": {
      "text/plain": [
       "['time',\n",
       " 'amount',\n",
       " 'reward',\n",
       " 'difficulty',\n",
       " 'age',\n",
       " 'income',\n",
       " 'gender',\n",
       " 'offer_type',\n",
       " 'email',\n",
       " 'mobile',\n",
       " 'social',\n",
       " 'web']"
      ]
     },
     "execution_count": 18,
     "metadata": {},
     "output_type": "execute_result"
    }
   ],
   "source": [
    "normalize_columns = list(X.columns)\n",
    "normalize_columns"
   ]
  },
  {
   "cell_type": "code",
   "execution_count": 19,
   "metadata": {},
   "outputs": [
    {
     "name": "stderr",
     "output_type": "stream",
     "text": [
      "C:\\Users\\HungNM81\\AppData\\Local\\Temp\\ipykernel_19536\\3738108685.py:1: SettingWithCopyWarning: \n",
      "A value is trying to be set on a copy of a slice from a DataFrame.\n",
      "Try using .loc[row_indexer,col_indexer] = value instead\n",
      "\n",
      "See the caveats in the documentation: https://pandas.pydata.org/pandas-docs/stable/user_guide/indexing.html#returning-a-view-versus-a-copy\n",
      "  X[normalize_columns] = scaler.fit_transform(X[normalize_columns])\n"
     ]
    }
   ],
   "source": [
    "X[normalize_columns] = scaler.fit_transform(X[normalize_columns])"
   ]
  },
  {
   "cell_type": "code",
   "execution_count": 20,
   "metadata": {},
   "outputs": [
    {
     "data": {
      "text/html": [
       "<div>\n",
       "<style scoped>\n",
       "    .dataframe tbody tr th:only-of-type {\n",
       "        vertical-align: middle;\n",
       "    }\n",
       "\n",
       "    .dataframe tbody tr th {\n",
       "        vertical-align: top;\n",
       "    }\n",
       "\n",
       "    .dataframe thead th {\n",
       "        text-align: right;\n",
       "    }\n",
       "</style>\n",
       "<table border=\"1\" class=\"dataframe\">\n",
       "  <thead>\n",
       "    <tr style=\"text-align: right;\">\n",
       "      <th></th>\n",
       "      <th>time</th>\n",
       "      <th>amount</th>\n",
       "      <th>reward</th>\n",
       "      <th>difficulty</th>\n",
       "      <th>age</th>\n",
       "      <th>income</th>\n",
       "      <th>gender</th>\n",
       "      <th>offer_type</th>\n",
       "      <th>email</th>\n",
       "      <th>mobile</th>\n",
       "      <th>social</th>\n",
       "      <th>web</th>\n",
       "    </tr>\n",
       "  </thead>\n",
       "  <tbody>\n",
       "    <tr>\n",
       "      <th>0</th>\n",
       "      <td>0.000000</td>\n",
       "      <td>0.000000</td>\n",
       "      <td>0.5</td>\n",
       "      <td>0.25</td>\n",
       "      <td>0.686747</td>\n",
       "      <td>0.777778</td>\n",
       "      <td>1.0</td>\n",
       "      <td>0.0</td>\n",
       "      <td>1.0</td>\n",
       "      <td>1.0</td>\n",
       "      <td>0.0</td>\n",
       "      <td>1.0</td>\n",
       "    </tr>\n",
       "    <tr>\n",
       "      <th>1</th>\n",
       "      <td>0.008403</td>\n",
       "      <td>0.000000</td>\n",
       "      <td>0.5</td>\n",
       "      <td>0.25</td>\n",
       "      <td>0.686747</td>\n",
       "      <td>0.777778</td>\n",
       "      <td>1.0</td>\n",
       "      <td>0.0</td>\n",
       "      <td>1.0</td>\n",
       "      <td>1.0</td>\n",
       "      <td>0.0</td>\n",
       "      <td>1.0</td>\n",
       "    </tr>\n",
       "    <tr>\n",
       "      <th>2</th>\n",
       "      <td>0.184874</td>\n",
       "      <td>0.018724</td>\n",
       "      <td>0.0</td>\n",
       "      <td>0.00</td>\n",
       "      <td>0.686747</td>\n",
       "      <td>0.777778</td>\n",
       "      <td>1.0</td>\n",
       "      <td>0.0</td>\n",
       "      <td>0.0</td>\n",
       "      <td>0.0</td>\n",
       "      <td>0.0</td>\n",
       "      <td>0.0</td>\n",
       "    </tr>\n",
       "    <tr>\n",
       "      <th>3</th>\n",
       "      <td>0.184874</td>\n",
       "      <td>0.000000</td>\n",
       "      <td>0.5</td>\n",
       "      <td>0.25</td>\n",
       "      <td>0.686747</td>\n",
       "      <td>0.777778</td>\n",
       "      <td>1.0</td>\n",
       "      <td>0.0</td>\n",
       "      <td>1.0</td>\n",
       "      <td>1.0</td>\n",
       "      <td>0.0</td>\n",
       "      <td>1.0</td>\n",
       "    </tr>\n",
       "    <tr>\n",
       "      <th>4</th>\n",
       "      <td>0.201681</td>\n",
       "      <td>0.016738</td>\n",
       "      <td>0.0</td>\n",
       "      <td>0.00</td>\n",
       "      <td>0.686747</td>\n",
       "      <td>0.777778</td>\n",
       "      <td>1.0</td>\n",
       "      <td>0.0</td>\n",
       "      <td>0.0</td>\n",
       "      <td>0.0</td>\n",
       "      <td>0.0</td>\n",
       "      <td>0.0</td>\n",
       "    </tr>\n",
       "  </tbody>\n",
       "</table>\n",
       "</div>"
      ],
      "text/plain": [
       "       time    amount  reward  difficulty       age    income  gender  \\\n",
       "0  0.000000  0.000000     0.5        0.25  0.686747  0.777778     1.0   \n",
       "1  0.008403  0.000000     0.5        0.25  0.686747  0.777778     1.0   \n",
       "2  0.184874  0.018724     0.0        0.00  0.686747  0.777778     1.0   \n",
       "3  0.184874  0.000000     0.5        0.25  0.686747  0.777778     1.0   \n",
       "4  0.201681  0.016738     0.0        0.00  0.686747  0.777778     1.0   \n",
       "\n",
       "   offer_type  email  mobile  social  web  \n",
       "0         0.0    1.0     1.0     0.0  1.0  \n",
       "1         0.0    1.0     1.0     0.0  1.0  \n",
       "2         0.0    0.0     0.0     0.0  0.0  \n",
       "3         0.0    1.0     1.0     0.0  1.0  \n",
       "4         0.0    0.0     0.0     0.0  0.0  "
      ]
     },
     "execution_count": 20,
     "metadata": {},
     "output_type": "execute_result"
    }
   ],
   "source": [
    "X.head()"
   ]
  },
  {
   "cell_type": "code",
   "execution_count": 21,
   "metadata": {},
   "outputs": [],
   "source": [
    "# split train/test\n",
    "X_train, X_test, y_train, y_test = train_test_split(X, Y, test_size=0.3, random_state=13)"
   ]
  },
  {
   "cell_type": "code",
   "execution_count": 22,
   "metadata": {},
   "outputs": [
    {
     "data": {
      "text/plain": [
       "((190933, 12), (81829, 12), (190933,), (81829,))"
      ]
     },
     "execution_count": 22,
     "metadata": {},
     "output_type": "execute_result"
    }
   ],
   "source": [
    "X_train.shape, X_test.shape, y_train.shape, y_test.shape"
   ]
  },
  {
   "cell_type": "markdown",
   "metadata": {},
   "source": [
    "### Modeling"
   ]
  },
  {
   "cell_type": "markdown",
   "metadata": {},
   "source": [
    "#### 1. Logistics Regression"
   ]
  },
  {
   "cell_type": "code",
   "execution_count": 23,
   "metadata": {},
   "outputs": [],
   "source": [
    "start = time() \n",
    "lr = LogisticRegression()\n",
    "lr.fit(X_train, y_train)\n",
    "lr_pred = lr.predict(X_test)\n",
    "end = time() \n",
    "\n",
    "lr_time = end-start"
   ]
  },
  {
   "cell_type": "code",
   "execution_count": 24,
   "metadata": {},
   "outputs": [
    {
     "name": "stdout",
     "output_type": "stream",
     "text": [
      "Total time using when training the model: 0.42969799041748047 (s)\n",
      "Accuracy: 88.260%\n",
      "Classification Report: \n",
      "               precision    recall  f1-score   support\n",
      "\n",
      "           0       0.88      1.00      0.94     72221\n",
      "           1       0.51      0.00      0.01      9608\n",
      "\n",
      "    accuracy                           0.88     81829\n",
      "   macro avg       0.70      0.50      0.47     81829\n",
      "weighted avg       0.84      0.88      0.83     81829\n",
      "\n"
     ]
    }
   ],
   "source": [
    "print(\"Total time using when training the model:\", lr_time, '(s)')\n",
    "accuracy_lr = accuracy_score(y_test, lr_pred)\n",
    "print(\"Accuracy: %.3f%%\" % (accuracy_lr * 100.0))\n",
    "print('Classification Report: \\n', classification_report(y_test, lr_pred))"
   ]
  },
  {
   "cell_type": "markdown",
   "metadata": {},
   "source": [
    "#### 2. Decision Tree Classifier"
   ]
  },
  {
   "cell_type": "code",
   "execution_count": 25,
   "metadata": {},
   "outputs": [],
   "source": [
    "start = time() \n",
    "dt = DecisionTreeClassifier()\n",
    "dt.fit(X_train, y_train)\n",
    "dt_pred = dt.predict(X_test)\n",
    "end = time() \n",
    "\n",
    "dt_time = end-start"
   ]
  },
  {
   "cell_type": "code",
   "execution_count": 26,
   "metadata": {},
   "outputs": [
    {
     "name": "stdout",
     "output_type": "stream",
     "text": [
      "Total time using when training the model: 0.4302971363067627 (s)\n",
      "Accuracy: 87.59%\n",
      "Classification Report: \n",
      "               precision    recall  f1-score   support\n",
      "\n",
      "           0       0.93      0.93      0.93     72221\n",
      "           1       0.47      0.47      0.47      9608\n",
      "\n",
      "    accuracy                           0.88     81829\n",
      "   macro avg       0.70      0.70      0.70     81829\n",
      "weighted avg       0.88      0.88      0.88     81829\n",
      "\n"
     ]
    }
   ],
   "source": [
    "print(\"Total time using when training the model:\", dt_time,'(s)')\n",
    "accuracy_dt = accuracy_score(y_test, dt_pred)\n",
    "print(\"Accuracy: %.2f%%\" % (accuracy_dt * 100.0))\n",
    "print('Classification Report: \\n', classification_report(y_test, dt_pred))"
   ]
  },
  {
   "cell_type": "markdown",
   "metadata": {},
   "source": [
    "#### 3. Random Forest Classifier"
   ]
  },
  {
   "cell_type": "code",
   "execution_count": 27,
   "metadata": {},
   "outputs": [],
   "source": [
    "start = time() \n",
    "rf = RandomForestClassifier()\n",
    "rf.fit(X_train, y_train)\n",
    "rf_pred = rf.predict(X_test)\n",
    "end = time() \n",
    "\n",
    "rf_time = end-start"
   ]
  },
  {
   "cell_type": "code",
   "execution_count": 28,
   "metadata": {},
   "outputs": [
    {
     "name": "stdout",
     "output_type": "stream",
     "text": [
      "Total time using when training the model: 14.252693891525269 (s)\n",
      "Accuracy: 86.87%\n",
      "Classification Report: \n",
      "               precision    recall  f1-score   support\n",
      "\n",
      "           0       0.91      0.95      0.93     72221\n",
      "           1       0.41      0.27      0.33      9608\n",
      "\n",
      "    accuracy                           0.87     81829\n",
      "   macro avg       0.66      0.61      0.63     81829\n",
      "weighted avg       0.85      0.87      0.86     81829\n",
      "\n"
     ]
    }
   ],
   "source": [
    "print(\"Total time using when training the model:\", rf_time,'(s)')\n",
    "accuracy_rf = accuracy_score(y_test, rf_pred)\n",
    "print(\"Accuracy: %.2f%%\" % (accuracy_rf * 100.0))\n",
    "print('Classification Report: \\n', classification_report(y_test, rf_pred))"
   ]
  },
  {
   "cell_type": "markdown",
   "metadata": {},
   "source": [
    "#### 4. K Neighboor Classifier"
   ]
  },
  {
   "cell_type": "code",
   "execution_count": 29,
   "metadata": {},
   "outputs": [],
   "source": [
    "start = time() \n",
    "kn = KNeighborsClassifier()\n",
    "kn.fit(X_train, y_train)\n",
    "kn_pred = kn.predict(X_test)\n",
    "end = time() \n",
    "\n",
    "kn_time = end-start"
   ]
  },
  {
   "cell_type": "code",
   "execution_count": 30,
   "metadata": {},
   "outputs": [
    {
     "name": "stdout",
     "output_type": "stream",
     "text": [
      "Total time using when training the model: 7.37971305847168 (s)\n",
      "Accuracy: 88.13%\n",
      "Classification Report: \n",
      "               precision    recall  f1-score   support\n",
      "\n",
      "           0       0.90      0.97      0.94     72221\n",
      "           1       0.49      0.23      0.31      9608\n",
      "\n",
      "    accuracy                           0.88     81829\n",
      "   macro avg       0.70      0.60      0.62     81829\n",
      "weighted avg       0.86      0.88      0.86     81829\n",
      "\n"
     ]
    }
   ],
   "source": [
    "print(\"Total time using when training the model:\", kn_time,'(s)')\n",
    "accuracy_kn = accuracy_score(y_test, kn_pred)\n",
    "print(\"Accuracy: %.2f%%\" % (accuracy_kn * 100.0))\n",
    "print('Classification Report: \\n', classification_report(y_test, kn_pred))"
   ]
  },
  {
   "cell_type": "markdown",
   "metadata": {},
   "source": [
    "#### 5. AdaBoost"
   ]
  },
  {
   "cell_type": "code",
   "execution_count": 31,
   "metadata": {},
   "outputs": [],
   "source": [
    "start = time() \n",
    "ad = AdaBoostClassifier()\n",
    "ad.fit(X_train, y_train)\n",
    "ad_pred = ad.predict(X_test)\n",
    "end = time() \n",
    "\n",
    "ad_time = end-start"
   ]
  },
  {
   "cell_type": "code",
   "execution_count": 32,
   "metadata": {},
   "outputs": [
    {
     "name": "stdout",
     "output_type": "stream",
     "text": [
      "Total time using when training the model: 4.791959762573242 (s)\n",
      "Accuracy: 89.26%\n",
      "Classification Report: \n",
      "               precision    recall  f1-score   support\n",
      "\n",
      "           0       0.91      0.98      0.94     72221\n",
      "           1       0.60      0.25      0.36      9608\n",
      "\n",
      "    accuracy                           0.89     81829\n",
      "   macro avg       0.75      0.62      0.65     81829\n",
      "weighted avg       0.87      0.89      0.87     81829\n",
      "\n"
     ]
    }
   ],
   "source": [
    "print(\"Total time using when training the model:\", ad_time,'(s)')\n",
    "accuracy_ad = accuracy_score(y_test, ad_pred)\n",
    "print(\"Accuracy: %.2f%%\" % (accuracy_ad * 100.0))\n",
    "print('Classification Report: \\n', classification_report(y_test, ad_pred))"
   ]
  },
  {
   "cell_type": "markdown",
   "metadata": {},
   "source": [
    "#### 6. XGBClassifier"
   ]
  },
  {
   "cell_type": "code",
   "execution_count": 33,
   "metadata": {},
   "outputs": [],
   "source": [
    "start = time() \n",
    "xg = XGBClassifier()\n",
    "xg.fit(X_train, y_train)\n",
    "xg_pred = xg.predict(X_test)\n",
    "end = time() \n",
    "\n",
    "xg_time = end-start"
   ]
  },
  {
   "cell_type": "code",
   "execution_count": 34,
   "metadata": {},
   "outputs": [
    {
     "name": "stdout",
     "output_type": "stream",
     "text": [
      "Total time using when training the model: 1.6368701457977295 (s)\n",
      "Accuracy: 89.26%\n",
      "Classification Report: \n",
      "               precision    recall  f1-score   support\n",
      "\n",
      "           0       0.94      0.95      0.95     72221\n",
      "           1       0.61      0.55      0.58      9608\n",
      "\n",
      "    accuracy                           0.91     81829\n",
      "   macro avg       0.77      0.75      0.76     81829\n",
      "weighted avg       0.90      0.91      0.90     81829\n",
      "\n"
     ]
    }
   ],
   "source": [
    "print(\"Total time using when training the model:\", xg_time,'(s)')\n",
    "accuracy_xg = accuracy_score(y_test, ad_pred)\n",
    "print(\"Accuracy: %.2f%%\" % (accuracy_xg * 100.0))\n",
    "print('Classification Report: \\n', classification_report(y_test, xg_pred))"
   ]
  },
  {
   "cell_type": "markdown",
   "metadata": {},
   "source": [
    "Based on the result, the XGBoost Classifier has the highest accuracy with 89.26% \n",
    "So I will use this model for tuning in later part.\n"
   ]
  },
  {
   "cell_type": "markdown",
   "metadata": {},
   "source": [
    "### Tunning model"
   ]
  },
  {
   "cell_type": "code",
   "execution_count": 46,
   "metadata": {},
   "outputs": [],
   "source": [
    "def perform_grid_search(X_train, y_train):\n",
    "    \"\"\"\n",
    "    Performs a grid search to find the best hyperparameters for an XGBoost classifier.\n",
    "\n",
    "    Args:\n",
    "        X_train (array-like): The training input samples.\n",
    "        y_train (array-like): The target values.\n",
    "\n",
    "    Returns:\n",
    "        dict: A dictionary containing the best parameters found by the grid search and the corresponding best score.\n",
    "    \"\"\"\n",
    "\n",
    "    # Hyperparameters\n",
    "    param_grid = {\n",
    "        'max_depth': [3, 5, 7],\n",
    "        'learning_rate': [0.1, 0.01, 0.001],\n",
    "        'n_estimators': [100, 500, 1000],\n",
    "    }\n",
    "\n",
    "    xg = XGBClassifier()\n",
    "\n",
    "    grid_search = GridSearchCV(xg, param_grid, cv=5)\n",
    "\n",
    "    grid_search.fit(X_train, y_train)\n",
    "\n",
    "    # Get the best parameters and the best score\n",
    "    best_params = grid_search.best_params_\n",
    "    best_score = grid_search.best_score_\n",
    "\n",
    "    return {'best_params': best_params, 'best_score': best_score}"
   ]
  },
  {
   "cell_type": "code",
   "execution_count": 47,
   "metadata": {},
   "outputs": [
    {
     "name": "stdout",
     "output_type": "stream",
     "text": [
      "Best parameters:  {'learning_rate': 0.01, 'max_depth': 5, 'n_estimators': 1000}\n",
      "Best score:  0.9089104488742545\n"
     ]
    }
   ],
   "source": [
    "result = perform_grid_search(X_train, y_train)\n",
    "\n",
    "print(\"Best parameters: \", result['best_params'])\n",
    "print(\"Best score: \", result['best_score'])"
   ]
  },
  {
   "cell_type": "code",
   "execution_count": 38,
   "metadata": {},
   "outputs": [],
   "source": [
    "best_params = {'learning_rate': 0.01, 'max_depth': 5, 'n_estimators': 1000}\n",
    "start = time()\n",
    "xg_tunned = XGBClassifier(learning_rate = 0.01, max_depth = 5, n_estimators = 1000)\n",
    "xg_tunned.fit(X_train, y_train)\n",
    "xg_tunned_pred = xg_tunned.predict(X_test)\n",
    "\n",
    "end = time()\n",
    "\n",
    "xg_tuned_total_time = end-start"
   ]
  },
  {
   "cell_type": "code",
   "execution_count": 39,
   "metadata": {},
   "outputs": [
    {
     "name": "stdout",
     "output_type": "stream",
     "text": [
      "Total time using when training the model: 2.3156681060791016 (s)\n",
      "Accuracy: 90.83%\n",
      "Classification Report: \n",
      "               precision    recall  f1-score   support\n",
      "\n",
      "           0       0.94      0.96      0.95     72221\n",
      "           1       0.62      0.55      0.59      9608\n",
      "\n",
      "    accuracy                           0.91     81829\n",
      "   macro avg       0.78      0.75      0.77     81829\n",
      "weighted avg       0.90      0.91      0.91     81829\n",
      "\n"
     ]
    }
   ],
   "source": [
    "print(\"Total time using when training the model:\", xg_tuned_total_time,'(s)')\n",
    "accuracy_tunned = accuracy_score(y_test, xg_tunned_pred)\n",
    "print(\"Accuracy: %.2f%%\" % (accuracy_tunned * 100.0))\n",
    "print('Classification Report: \\n', classification_report(y_test, xg_tunned_pred))"
   ]
  },
  {
   "cell_type": "markdown",
   "metadata": {},
   "source": [
    "The accuracy has been improved from 89.26% to 90.83%"
   ]
  },
  {
   "cell_type": "markdown",
   "metadata": {},
   "source": [
    "### Features Important"
   ]
  },
  {
   "cell_type": "code",
   "execution_count": 48,
   "metadata": {},
   "outputs": [],
   "source": [
    "def get_top_features(xg_model, X_train, n=10):\n",
    "    \"\"\"\n",
    "    Retrieves the top 'n' important features from an XGBoost model and returns them in a DataFrame.\n",
    "\n",
    "    Args:\n",
    "        xg_model (object): The trained XGBoost model.\n",
    "        X_train (DataFrame): The training input samples.\n",
    "        n (int, optional): The number of top features to retrieve. Defaults to 10.\n",
    "\n",
    "    Returns:\n",
    "        DataFrame: A DataFrame containing the top 'n' features and their importances, sorted in descending order.\n",
    "    \"\"\"\n",
    "\n",
    "    # Retrieve feature importances from the XGBoost model\n",
    "    importance = xg_model.feature_importances_\n",
    "\n",
    "    # Create a DataFrame with feature names and importances\n",
    "    feature_imp = pd.DataFrame({'Feature': X_train.columns, 'Importance': importance})\n",
    "\n",
    "    # Sort the DataFrame by importance in descending order\n",
    "    feature_imp = feature_imp.sort_values(by='Importance', ascending=False).reset_index(drop=True)\n",
    "\n",
    "    # Retrieve the top 'n' features\n",
    "    top_features = feature_imp.head(n)\n",
    "\n",
    "    return top_features\n",
    "\n"
   ]
  },
  {
   "cell_type": "code",
   "execution_count": 50,
   "metadata": {},
   "outputs": [
    {
     "name": "stdout",
     "output_type": "stream",
     "text": [
      "      Feature  Importance\n",
      "0      reward    0.834242\n",
      "1        time    0.121450\n",
      "2      gender    0.010695\n",
      "3      social    0.010199\n",
      "4      income    0.007340\n",
      "5  offer_type    0.005262\n",
      "6  difficulty    0.002826\n",
      "7         web    0.002789\n",
      "8      mobile    0.002629\n",
      "9         age    0.002568\n"
     ]
    }
   ],
   "source": [
    "top_10_features = get_top_features(xg_tunned, X_train, n=10)\n",
    "\n",
    "print(top_10_features)"
   ]
  },
  {
   "cell_type": "markdown",
   "metadata": {},
   "source": [
    "Base on the result, we can see that feature `reward` and `time` are the most important features (83.42% and 12.14%)"
   ]
  },
  {
   "cell_type": "markdown",
   "metadata": {},
   "source": [
    "### Comparing the models"
   ]
  },
  {
   "cell_type": "code",
   "execution_count": 51,
   "metadata": {},
   "outputs": [],
   "source": [
    "def create_model_performance_df(model_names, accuracy_scores, all_model_time):\n",
    "    \"\"\"\n",
    "    Creates a DataFrame to compare the performance of different models.\n",
    "\n",
    "    Args:\n",
    "        model_names (list): A list of model names.\n",
    "        accuracy_scores (list): A list of accuracy scores corresponding to each model.\n",
    "        all_model_time (list): A list of time taken by each model.\n",
    "\n",
    "    Returns:\n",
    "        DataFrame: A DataFrame containing the model names, accuracy scores, and time taken.\n",
    "                   The DataFrame is sorted in descending order based on accuracy scores.\n",
    "    \"\"\"\n",
    "\n",
    "    # Create a DataFrame with model names, accuracy scores, and time taken\n",
    "    df = pd.DataFrame(list(zip(accuracy_scores, all_model_time)), index=model_names, columns=['Accuracy', 'Time (s)'])\n",
    "\n",
    "    # Sort the DataFrame by accuracy scores in descending order\n",
    "    df = df.sort_values(by='Accuracy', ascending=False)\n",
    "\n",
    "    return df\n",
    "\n"
   ]
  },
  {
   "cell_type": "code",
   "execution_count": 52,
   "metadata": {},
   "outputs": [
    {
     "name": "stdout",
     "output_type": "stream",
     "text": [
      "                       Accuracy   Time (s)\n",
      "Tunned XGB Classifier  0.908345   2.315668\n",
      "XGB Classifier         0.905339   1.636870\n",
      "Ada Boost              0.892642   4.791960\n",
      "Logistic Regression    0.882597   0.429698\n",
      "K Neighbors            0.881326   7.379713\n",
      "Decision Tree          0.875875   0.430297\n",
      "Random Forest          0.868665  14.252694\n"
     ]
    }
   ],
   "source": [
    "model_names = ['Logistic Regression', 'Decision Tree', 'Random Forest', 'K Neighbors', 'Ada Boost', 'XGB Classifier', 'Tunned XGB Classifier']\n",
    "accuracy_scores = [accuracy_score(y_test, lr_pred), accuracy_score(y_test, dt_pred), accuracy_score(y_test, rf_pred), accuracy_score(y_test, kn_pred), accuracy_score(y_test, ad_pred), accuracy_score(y_test, xg_pred), accuracy_score(y_test, xg_tunned_pred)]\n",
    "all_model_time = [lr_time, dt_time, rf_time, kn_time, ad_time, xg_time, xg_tuned_total_time]\n",
    "\n",
    "performance_df = create_model_performance_df(model_names, accuracy_scores, all_model_time)\n",
    "\n",
    "print(performance_df)"
   ]
  },
  {
   "cell_type": "markdown",
   "metadata": {},
   "source": [
    "### Conclusion: \n",
    "- Top 2 most important features is `reward` (83.42%) and `time` (12.14%)\n",
    "- XGB Classifier is the best model here because of it accuracy and the worst is random forest\n",
    "- We can still improve the accuracy of the model by tunning it with GridSearchCV and hyperparameters"
   ]
  },
  {
   "cell_type": "code",
   "execution_count": null,
   "metadata": {},
   "outputs": [],
   "source": []
  }
 ],
 "metadata": {
  "kernelspec": {
   "display_name": "Python 3",
   "language": "python",
   "name": "python3"
  },
  "language_info": {
   "codemirror_mode": {
    "name": "ipython",
    "version": 3
   },
   "file_extension": ".py",
   "mimetype": "text/x-python",
   "name": "python",
   "nbconvert_exporter": "python",
   "pygments_lexer": "ipython3",
   "version": "3.10.11"
  }
 },
 "nbformat": 4,
 "nbformat_minor": 2
}
